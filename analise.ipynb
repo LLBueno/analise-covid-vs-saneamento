{
 "cells": [
  {
   "cell_type": "markdown",
   "metadata": {
    "tags": []
   },
   "source": [
    "### Análise acadêmica da relação entre COVID-19 e o Saneamento Básico dos Estados Brasileiros\n",
    "\n",
    "**Autores:**\n",
    "- Leandro Lopes Bueno\n",
    "- Matheus Henrique Rothstein Vieira\n",
    "\n",
    "Fontes de dados:\n",
    "\n",
    "[Brasil.io - Covid-19](https://brasil.io/api/dataset/covid19/caso/data)\n",
    "\n",
    "[SNIS - Saneamento Básico](http://www.snis.gov.br/diagnostico-anual-agua-e-esgotos/diagnostico-dos-servicos-de-agua-e-esgotos-2018)"
   ]
  },
  {
   "cell_type": "code",
   "execution_count": 49,
   "metadata": {},
   "outputs": [],
   "source": [
    "import requests # requisições HTTP\n",
    "import matplotlib.pyplot as plt # gerar gráficos\n",
    "import pandas as pd"
   ]
  },
  {
   "cell_type": "code",
   "execution_count": 50,
   "metadata": {},
   "outputs": [],
   "source": [
    "pd.options.display.max_columns = 120\n",
    "pd.options.display.max_rows = 90"
   ]
  },
  {
   "cell_type": "code",
   "execution_count": 51,
   "metadata": {
    "tags": []
   },
   "outputs": [],
   "source": [
    "# Pega dados dos Estados e ordena por casos confirmados\n",
    "dados = requests.get(\"https://brasil.io/api/dataset/covid19/caso/data?place_type=state&is_last=true\")\n",
    "dados_por_estado = [{'estado': item['state'], 'casos_por_110k_habitante': item['confirmed_per_100k_inhabitants']} for item in dados.json()['results']]\n",
    "dados_por_estado = sorted(dados_por_estado, key=lambda i: i['casos_por_110k_habitante'])\n",
    "estados = [item['estado'] for item in dados_por_estado]\n",
    "valores = [int(item['casos_por_110k_habitante']) for item in dados_por_estado]"
   ]
  },
  {
   "cell_type": "code",
   "execution_count": 52,
   "metadata": {},
   "outputs": [
    {
     "name": "stderr",
     "output_type": "stream",
     "text": [
      "/home/leandro/Envs/jupyter/lib/python3.7/site-packages/pandas/core/strings.py:1954: UserWarning: This pattern has match groups. To actually get the groups, use str.extract.\n",
      "  return func(self, *args, **kwargs)\n"
     ]
    },
    {
     "data": {
      "text/html": [
       "<div>\n",
       "<style scoped>\n",
       "    .dataframe tbody tr th:only-of-type {\n",
       "        vertical-align: middle;\n",
       "    }\n",
       "\n",
       "    .dataframe tbody tr th {\n",
       "        vertical-align: top;\n",
       "    }\n",
       "\n",
       "    .dataframe thead th {\n",
       "        text-align: right;\n",
       "    }\n",
       "</style>\n",
       "<table border=\"1\" class=\"dataframe\">\n",
       "  <thead>\n",
       "    <tr style=\"text-align: right;\">\n",
       "      <th></th>\n",
       "      <th>estado</th>\n",
       "      <th>populacao_total</th>\n",
       "      <th>populacao_atendida_agua</th>\n",
       "      <th>populacao_sem_agua</th>\n",
       "    </tr>\n",
       "  </thead>\n",
       "  <tbody>\n",
       "    <tr>\n",
       "      <th>32</th>\n",
       "      <td>Distrito Federal (DF)</td>\n",
       "      <td>2974703.0</td>\n",
       "      <td>2944955.0</td>\n",
       "      <td>1.000033</td>\n",
       "    </tr>\n",
       "    <tr>\n",
       "      <th>24</th>\n",
       "      <td>São Paulo (SP)</td>\n",
       "      <td>45270936.0</td>\n",
       "      <td>43547974.0</td>\n",
       "      <td>3.805890</td>\n",
       "    </tr>\n",
       "    <tr>\n",
       "      <th>27</th>\n",
       "      <td>Paraná (PR)</td>\n",
       "      <td>11260556.0</td>\n",
       "      <td>10628686.0</td>\n",
       "      <td>5.611357</td>\n",
       "    </tr>\n",
       "    <tr>\n",
       "      <th>23</th>\n",
       "      <td>Rio de Janeiro (RJ)</td>\n",
       "      <td>17078705.0</td>\n",
       "      <td>15449887.0</td>\n",
       "      <td>9.537128</td>\n",
       "    </tr>\n",
       "    <tr>\n",
       "      <th>35</th>\n",
       "      <td>Mato Grosso (MT)</td>\n",
       "      <td>3121982.0</td>\n",
       "      <td>2787750.0</td>\n",
       "      <td>10.705763</td>\n",
       "    </tr>\n",
       "    <tr>\n",
       "      <th>29</th>\n",
       "      <td>Santa Catarina (SC)</td>\n",
       "      <td>7032276.0</td>\n",
       "      <td>6263578.0</td>\n",
       "      <td>10.930999</td>\n",
       "    </tr>\n",
       "    <tr>\n",
       "      <th>17</th>\n",
       "      <td>Rio Grande do Norte (RN)</td>\n",
       "      <td>3408754.0</td>\n",
       "      <td>2968780.0</td>\n",
       "      <td>12.907180</td>\n",
       "    </tr>\n",
       "    <tr>\n",
       "      <th>18</th>\n",
       "      <td>Sergipe (SE)</td>\n",
       "      <td>2278308.0</td>\n",
       "      <td>1978948.0</td>\n",
       "      <td>13.139576</td>\n",
       "    </tr>\n",
       "    <tr>\n",
       "      <th>28</th>\n",
       "      <td>Rio Grande do Sul (RS)</td>\n",
       "      <td>11211908.0</td>\n",
       "      <td>9687438.0</td>\n",
       "      <td>13.596883</td>\n",
       "    </tr>\n",
       "    <tr>\n",
       "      <th>34</th>\n",
       "      <td>Mato Grosso do Sul (MS)</td>\n",
       "      <td>2732639.0</td>\n",
       "      <td>2359872.0</td>\n",
       "      <td>13.641282</td>\n",
       "    </tr>\n",
       "    <tr>\n",
       "      <th>33</th>\n",
       "      <td>Goiás (GO)</td>\n",
       "      <td>6887153.0</td>\n",
       "      <td>5892103.0</td>\n",
       "      <td>14.447915</td>\n",
       "    </tr>\n",
       "    <tr>\n",
       "      <th>22</th>\n",
       "      <td>Minas Gerais (MG)</td>\n",
       "      <td>20757436.0</td>\n",
       "      <td>17040052.0</td>\n",
       "      <td>17.908686</td>\n",
       "    </tr>\n",
       "    <tr>\n",
       "      <th>11</th>\n",
       "      <td>Bahia (BA)</td>\n",
       "      <td>14428718.0</td>\n",
       "      <td>11776611.0</td>\n",
       "      <td>18.380753</td>\n",
       "    </tr>\n",
       "    <tr>\n",
       "      <th>6</th>\n",
       "      <td>Roraima (RR)</td>\n",
       "      <td>576568.0</td>\n",
       "      <td>469711.0</td>\n",
       "      <td>18.533287</td>\n",
       "    </tr>\n",
       "    <tr>\n",
       "      <th>21</th>\n",
       "      <td>Espírito Santo (ES)</td>\n",
       "      <td>3972388.0</td>\n",
       "      <td>3227256.0</td>\n",
       "      <td>18.757785</td>\n",
       "    </tr>\n",
       "    <tr>\n",
       "      <th>3</th>\n",
       "      <td>Amazonas (AM)</td>\n",
       "      <td>2800476.0</td>\n",
       "      <td>2272355.0</td>\n",
       "      <td>18.858258</td>\n",
       "    </tr>\n",
       "    <tr>\n",
       "      <th>15</th>\n",
       "      <td>Pernambuco (PE)</td>\n",
       "      <td>9357992.0</td>\n",
       "      <td>7534869.0</td>\n",
       "      <td>19.481989</td>\n",
       "    </tr>\n",
       "    <tr>\n",
       "      <th>7</th>\n",
       "      <td>Tocantins (TO)</td>\n",
       "      <td>1717604.0</td>\n",
       "      <td>1362728.0</td>\n",
       "      <td>20.661107</td>\n",
       "    </tr>\n",
       "    <tr>\n",
       "      <th>16</th>\n",
       "      <td>Piauí (PI)</td>\n",
       "      <td>3014293.0</td>\n",
       "      <td>2287525.0</td>\n",
       "      <td>24.110728</td>\n",
       "    </tr>\n",
       "    <tr>\n",
       "      <th>10</th>\n",
       "      <td>Alagoas (AL)</td>\n",
       "      <td>3113663.0</td>\n",
       "      <td>2323493.0</td>\n",
       "      <td>25.377506</td>\n",
       "    </tr>\n",
       "    <tr>\n",
       "      <th>14</th>\n",
       "      <td>Paraíba (PB)</td>\n",
       "      <td>3852446.0</td>\n",
       "      <td>2861171.0</td>\n",
       "      <td>25.731055</td>\n",
       "    </tr>\n",
       "    <tr>\n",
       "      <th>12</th>\n",
       "      <td>Ceará (CE)</td>\n",
       "      <td>8813933.0</td>\n",
       "      <td>5196441.0</td>\n",
       "      <td>41.042881</td>\n",
       "    </tr>\n",
       "    <tr>\n",
       "      <th>13</th>\n",
       "      <td>Maranhão (MA)</td>\n",
       "      <td>6208163.0</td>\n",
       "      <td>3500498.0</td>\n",
       "      <td>43.614593</td>\n",
       "    </tr>\n",
       "    <tr>\n",
       "      <th>5</th>\n",
       "      <td>Rondônia (RO)</td>\n",
       "      <td>1702600.0</td>\n",
       "      <td>841296.0</td>\n",
       "      <td>50.587572</td>\n",
       "    </tr>\n",
       "    <tr>\n",
       "      <th>1</th>\n",
       "      <td>Acre (AC)</td>\n",
       "      <td>869265.0</td>\n",
       "      <td>409168.0</td>\n",
       "      <td>52.929429</td>\n",
       "    </tr>\n",
       "    <tr>\n",
       "      <th>4</th>\n",
       "      <td>Pará (PA)</td>\n",
       "      <td>6976799.0</td>\n",
       "      <td>3182739.0</td>\n",
       "      <td>54.381099</td>\n",
       "    </tr>\n",
       "    <tr>\n",
       "      <th>2</th>\n",
       "      <td>Amapá (AP)</td>\n",
       "      <td>829494.0</td>\n",
       "      <td>289541.0</td>\n",
       "      <td>65.094262</td>\n",
       "    </tr>\n",
       "  </tbody>\n",
       "</table>\n",
       "</div>"
      ],
      "text/plain": [
       "                      estado  populacao_total  populacao_atendida_agua  \\\n",
       "32     Distrito Federal (DF)        2974703.0                2944955.0   \n",
       "24            São Paulo (SP)       45270936.0               43547974.0   \n",
       "27               Paraná (PR)       11260556.0               10628686.0   \n",
       "23       Rio de Janeiro (RJ)       17078705.0               15449887.0   \n",
       "35          Mato Grosso (MT)        3121982.0                2787750.0   \n",
       "29       Santa Catarina (SC)        7032276.0                6263578.0   \n",
       "17  Rio Grande do Norte (RN)        3408754.0                2968780.0   \n",
       "18              Sergipe (SE)        2278308.0                1978948.0   \n",
       "28    Rio Grande do Sul (RS)       11211908.0                9687438.0   \n",
       "34   Mato Grosso do Sul (MS)        2732639.0                2359872.0   \n",
       "33                Goiás (GO)        6887153.0                5892103.0   \n",
       "22         Minas Gerais (MG)       20757436.0               17040052.0   \n",
       "11                Bahia (BA)       14428718.0               11776611.0   \n",
       "6               Roraima (RR)         576568.0                 469711.0   \n",
       "21       Espírito Santo (ES)        3972388.0                3227256.0   \n",
       "3              Amazonas (AM)        2800476.0                2272355.0   \n",
       "15           Pernambuco (PE)        9357992.0                7534869.0   \n",
       "7             Tocantins (TO)        1717604.0                1362728.0   \n",
       "16                Piauí (PI)        3014293.0                2287525.0   \n",
       "10              Alagoas (AL)        3113663.0                2323493.0   \n",
       "14              Paraíba (PB)        3852446.0                2861171.0   \n",
       "12                Ceará (CE)        8813933.0                5196441.0   \n",
       "13             Maranhão (MA)        6208163.0                3500498.0   \n",
       "5              Rondônia (RO)        1702600.0                 841296.0   \n",
       "1                  Acre (AC)         869265.0                 409168.0   \n",
       "4                  Pará (PA)        6976799.0                3182739.0   \n",
       "2                 Amapá (AP)         829494.0                 289541.0   \n",
       "\n",
       "    populacao_sem_agua  \n",
       "32            1.000033  \n",
       "24            3.805890  \n",
       "27            5.611357  \n",
       "23            9.537128  \n",
       "35           10.705763  \n",
       "29           10.930999  \n",
       "17           12.907180  \n",
       "18           13.139576  \n",
       "28           13.596883  \n",
       "34           13.641282  \n",
       "33           14.447915  \n",
       "22           17.908686  \n",
       "11           18.380753  \n",
       "6            18.533287  \n",
       "21           18.757785  \n",
       "3            18.858258  \n",
       "15           19.481989  \n",
       "7            20.661107  \n",
       "16           24.110728  \n",
       "10           25.377506  \n",
       "14           25.731055  \n",
       "12           41.042881  \n",
       "13           43.614593  \n",
       "5            50.587572  \n",
       "1            52.929429  \n",
       "4            54.381099  \n",
       "2            65.094262  "
      ]
     },
     "execution_count": 52,
     "metadata": {},
     "output_type": "execute_result"
    }
   ],
   "source": [
    "df = pd.read_excel('Planilha_Resumo_Informacoes_Estado_2018.xls', skiprows=range(0, 11)).rename(columns={'-': 'estado', 'GE12a': 'populacao_total', 'AG001': 'populacao_atendida_agua'})\n",
    "df = df[['estado', 'populacao_total', 'populacao_atendida_agua']]\n",
    "df['populacao_sem_agua'] = (df['populacao_total'] - df['populacao_atendida_agua']) / df['populacao_total'] * 100\n",
    "df.loc[df.estado.str.contains('\\(([A-Z])\\w\\)+'), :].sort_values(by='populacao_sem_agua')"
   ]
  },
  {
   "cell_type": "code",
   "execution_count": 53,
   "metadata": {
    "tags": []
   },
   "outputs": [
    {
     "name": "stderr",
     "output_type": "stream",
     "text": [
      "/home/leandro/Envs/jupyter/lib/python3.7/site-packages/pandas/core/strings.py:1954: UserWarning: This pattern has match groups. To actually get the groups, use str.extract.\n",
      "  return func(self, *args, **kwargs)\n"
     ]
    },
    {
     "data": {
      "text/plain": [
       "<matplotlib.axes._subplots.AxesSubplot at 0x7f703d301f10>"
      ]
     },
     "execution_count": 53,
     "metadata": {},
     "output_type": "execute_result"
    },
    {
     "data": {
      "image/png": "[encoded data removed]",
      "text/plain": [
       "<Figure size 432x288 with 1 Axes>"
      ]
     },
     "metadata": {
      "needs_background": "light"
     },
     "output_type": "display_data"
    }
   ],
   "source": [
    "# População relativa sem acesso a água\n",
    "df.loc[df.estado.str.contains('\\(([A-Z])\\w\\)+'), :].sort_values(by='populacao_sem_agua').plot.barh(x='estado', y='populacao_sem_agua')"
   ]
  },
  {
   "cell_type": "code",
   "execution_count": 54,
   "metadata": {},
   "outputs": [
    {
     "data": {
      "image/png": "[encoded data removed]",
      "text/plain": [
       "<Figure size 432x288 with 1 Axes>"
      ]
     },
     "metadata": {
      "needs_background": "light"
     },
     "output_type": "display_data"
    }
   ],
   "source": [
    "# Gráfico de casos por Estado para cada 100 mil habitantes\n",
    "x_pos = [i for i, _ in enumerate(estados)]\n",
    "\n",
    "plt.barh(x_pos, valores, color='blue')\n",
    "plt.ylabel(\"Estados\")\n",
    "plt.xlabel(\"Casos Confirmados / 100k Habitantes\")\n",
    "plt.title(\"Casos por habitantes\")\n",
    "\n",
    "plt.yticks(x_pos, estados)\n",
    "\n",
    "plt.show()"
   ]
  },
  {
   "cell_type": "markdown",
   "metadata": {},
   "source": [
    "### Conclusão\n",
    "\n",
    "É possível observar uma certa relação entre o nível de saneamento básico e os casos de COVID-19, como, por exemplo, o Amapá país com menor população relativa com acesso à água tratada e que lidera nos números de COVID-19 com base na população relativa.\n",
    "\n",
    "Outro bom exemplo é o Paraná, país com menos casos relativos e com um bom nível de entrega de água tratada para a população.\n",
    "\n",
    "Mas essa relação nem sempre é verdade, como pode ser observado no DF.\n",
    "\n",
    "Isso deve ocorrer, pois acesso à água  é um bom inidicador do nível de desenvolvimento de um local.\n",
    "\n",
    "Logo é possível afirmar que locais com nível baixo de saneamento necessariamente são locais com maior taxa de COVID-19, mas o oposto não é verdade, pois existem mais fatores associados à COVID-19."
   ]
  },
  {
   "cell_type": "code",
   "execution_count": null,
   "metadata": {},
   "outputs": [],
   "source": []
  }
 ],
 "metadata": {
  "kernelspec": {
   "display_name": "Python 3.7.6 64-bit ('jupyter': venv)",
   "language": "python",
   "name": "python37664bitjupytervenv603fba779d184bdd8deb10c02550483f"
  },
  "language_info": {
   "codemirror_mode": {
    "name": "ipython",
    "version": 3
   },
   "file_extension": ".py",
   "mimetype": "text/x-python",
   "name": "python",
   "nbconvert_exporter": "python",
   "pygments_lexer": "ipython3",
   "version": "3.7.6"
  }
 },
 "nbformat": 4,
 "nbformat_minor": 2
}
